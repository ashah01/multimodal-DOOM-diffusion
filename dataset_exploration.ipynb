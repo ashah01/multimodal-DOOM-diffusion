{
 "cells": [
  {
   "cell_type": "code",
   "metadata": {
    "ExecuteTime": {
     "end_time": "2024-07-21T23:42:41.295560Z",
     "start_time": "2024-07-21T23:42:41.291305Z"
    }
   },
   "source": [
    "import os\n",
    "from glob import glob\n",
    "import torch\n",
    "from torchvision.datasets.video_utils import VideoClips\n",
    "import torchvision.transforms as T\n",
    "import pickle"
   ],
   "outputs": [],
   "execution_count": 4
  },
  {
   "metadata": {
    "ExecuteTime": {
     "end_time": "2024-07-21T02:45:11.589438Z",
     "start_time": "2024-07-21T02:45:11.577194Z"
    }
   },
   "cell_type": "code",
   "source": "sorted(os.listdir('frames_dataset'), key=lambda x: int(x.split('_')[1]) if x != '.DS_Store' else 99999)",
   "outputs": [
    {
     "data": {
      "text/plain": [
       "['episode_1',\n",
       " 'episode_2',\n",
       " 'episode_3',\n",
       " 'episode_4',\n",
       " 'episode_5',\n",
       " 'episode_6',\n",
       " 'episode_7',\n",
       " 'episode_8',\n",
       " 'episode_9',\n",
       " 'episode_10',\n",
       " 'episode_11',\n",
       " 'episode_12',\n",
       " 'episode_13',\n",
       " 'episode_14',\n",
       " 'episode_15',\n",
       " 'episode_16',\n",
       " 'episode_17',\n",
       " 'episode_18',\n",
       " 'episode_19',\n",
       " 'episode_20',\n",
       " 'episode_21',\n",
       " 'episode_22',\n",
       " 'episode_23',\n",
       " 'episode_24',\n",
       " 'episode_25',\n",
       " 'episode_26',\n",
       " 'episode_27',\n",
       " 'episode_28',\n",
       " 'episode_29',\n",
       " 'episode_30',\n",
       " 'episode_31',\n",
       " 'episode_32',\n",
       " 'episode_33',\n",
       " 'episode_34',\n",
       " 'episode_35',\n",
       " 'episode_36',\n",
       " 'episode_37',\n",
       " 'episode_38',\n",
       " 'episode_39',\n",
       " 'episode_40',\n",
       " 'episode_41',\n",
       " 'episode_42',\n",
       " 'episode_43',\n",
       " 'episode_44',\n",
       " 'episode_45',\n",
       " 'episode_46',\n",
       " 'episode_47',\n",
       " 'episode_48',\n",
       " 'episode_49',\n",
       " 'episode_50',\n",
       " 'episode_51',\n",
       " 'episode_52',\n",
       " 'episode_53',\n",
       " 'episode_54',\n",
       " 'episode_55',\n",
       " 'episode_56',\n",
       " 'episode_57',\n",
       " 'episode_58',\n",
       " 'episode_59',\n",
       " 'episode_60',\n",
       " 'episode_61',\n",
       " 'episode_62',\n",
       " 'episode_63',\n",
       " 'episode_64',\n",
       " 'episode_65',\n",
       " 'episode_66',\n",
       " 'episode_67',\n",
       " 'episode_68',\n",
       " 'episode_69',\n",
       " 'episode_70',\n",
       " 'episode_71',\n",
       " 'episode_72',\n",
       " 'episode_73',\n",
       " 'episode_74',\n",
       " 'episode_75',\n",
       " 'episode_76',\n",
       " 'episode_77',\n",
       " 'episode_78',\n",
       " 'episode_79',\n",
       " 'episode_80',\n",
       " 'episode_81',\n",
       " 'episode_82',\n",
       " 'episode_83',\n",
       " 'episode_84',\n",
       " 'episode_85',\n",
       " 'episode_86',\n",
       " 'episode_87',\n",
       " 'episode_88',\n",
       " 'episode_89',\n",
       " 'episode_90',\n",
       " 'episode_91',\n",
       " 'episode_92',\n",
       " 'episode_93',\n",
       " 'episode_94',\n",
       " 'episode_95',\n",
       " 'episode_96',\n",
       " 'episode_97',\n",
       " 'episode_98',\n",
       " 'episode_99',\n",
       " 'episode_100',\n",
       " 'episode_101',\n",
       " 'episode_102',\n",
       " 'episode_103',\n",
       " 'episode_104',\n",
       " 'episode_105',\n",
       " 'episode_106',\n",
       " 'episode_107',\n",
       " 'episode_108',\n",
       " 'episode_109',\n",
       " 'episode_110',\n",
       " 'episode_111',\n",
       " 'episode_112',\n",
       " 'episode_113',\n",
       " 'episode_114',\n",
       " 'episode_115',\n",
       " 'episode_116',\n",
       " 'episode_117',\n",
       " 'episode_118',\n",
       " 'episode_119',\n",
       " 'episode_120',\n",
       " 'episode_121',\n",
       " 'episode_122',\n",
       " 'episode_123',\n",
       " 'episode_124',\n",
       " 'episode_125',\n",
       " 'episode_126',\n",
       " 'episode_127',\n",
       " 'episode_128',\n",
       " 'episode_129',\n",
       " 'episode_130',\n",
       " 'episode_131',\n",
       " 'episode_132',\n",
       " 'episode_133',\n",
       " 'episode_134',\n",
       " 'episode_135',\n",
       " 'episode_136',\n",
       " 'episode_137',\n",
       " 'episode_138',\n",
       " 'episode_139',\n",
       " 'episode_140',\n",
       " 'episode_141',\n",
       " 'episode_142',\n",
       " 'episode_143',\n",
       " 'episode_144',\n",
       " 'episode_145',\n",
       " 'episode_146',\n",
       " 'episode_147',\n",
       " 'episode_148',\n",
       " 'episode_149',\n",
       " 'episode_150',\n",
       " 'episode_151',\n",
       " 'episode_152',\n",
       " 'episode_153',\n",
       " 'episode_154',\n",
       " 'episode_155',\n",
       " 'episode_156',\n",
       " 'episode_157',\n",
       " 'episode_158',\n",
       " 'episode_159',\n",
       " 'episode_160',\n",
       " 'episode_161',\n",
       " 'episode_162',\n",
       " 'episode_163',\n",
       " 'episode_164',\n",
       " 'episode_165',\n",
       " 'episode_166',\n",
       " 'episode_167',\n",
       " 'episode_168',\n",
       " 'episode_169',\n",
       " 'episode_170',\n",
       " 'episode_171',\n",
       " 'episode_172',\n",
       " 'episode_173',\n",
       " 'episode_174',\n",
       " 'episode_175',\n",
       " 'episode_176',\n",
       " 'episode_177',\n",
       " 'episode_178',\n",
       " 'episode_179',\n",
       " 'episode_180',\n",
       " 'episode_181',\n",
       " 'episode_182',\n",
       " 'episode_183',\n",
       " 'episode_184',\n",
       " 'episode_185',\n",
       " 'episode_186',\n",
       " 'episode_187',\n",
       " 'episode_188',\n",
       " 'episode_189',\n",
       " 'episode_190',\n",
       " 'episode_191',\n",
       " 'episode_192',\n",
       " 'episode_193',\n",
       " 'episode_194',\n",
       " 'episode_195',\n",
       " 'episode_196',\n",
       " 'episode_197',\n",
       " 'episode_198',\n",
       " 'episode_199',\n",
       " 'episode_200',\n",
       " 'episode_201',\n",
       " 'episode_202',\n",
       " 'episode_203',\n",
       " 'episode_204',\n",
       " 'episode_205',\n",
       " 'episode_206',\n",
       " 'episode_207',\n",
       " 'episode_208',\n",
       " 'episode_209',\n",
       " 'episode_210',\n",
       " 'episode_211',\n",
       " 'episode_212',\n",
       " 'episode_213',\n",
       " 'episode_214',\n",
       " 'episode_215',\n",
       " 'episode_216',\n",
       " 'episode_217',\n",
       " 'episode_218',\n",
       " 'episode_219',\n",
       " 'episode_220',\n",
       " 'episode_221',\n",
       " 'episode_222',\n",
       " 'episode_223',\n",
       " 'episode_224',\n",
       " 'episode_225',\n",
       " 'episode_226',\n",
       " 'episode_227',\n",
       " 'episode_228',\n",
       " 'episode_229',\n",
       " 'episode_230',\n",
       " 'episode_231',\n",
       " 'episode_232',\n",
       " 'episode_233',\n",
       " 'episode_234',\n",
       " 'episode_235',\n",
       " 'episode_236',\n",
       " 'episode_237',\n",
       " 'episode_238',\n",
       " 'episode_239',\n",
       " 'episode_240',\n",
       " 'episode_241',\n",
       " 'episode_242',\n",
       " 'episode_243',\n",
       " 'episode_244',\n",
       " 'episode_245',\n",
       " 'episode_246',\n",
       " 'episode_247',\n",
       " 'episode_248',\n",
       " 'episode_249',\n",
       " 'episode_250',\n",
       " 'episode_251',\n",
       " 'episode_252',\n",
       " 'episode_253',\n",
       " 'episode_254',\n",
       " 'episode_255',\n",
       " 'episode_256',\n",
       " 'episode_257',\n",
       " 'episode_258',\n",
       " 'episode_259',\n",
       " 'episode_260',\n",
       " 'episode_261',\n",
       " 'episode_262',\n",
       " 'episode_263',\n",
       " 'episode_264',\n",
       " 'episode_265',\n",
       " 'episode_266',\n",
       " 'episode_267',\n",
       " 'episode_268',\n",
       " 'episode_269',\n",
       " 'episode_270',\n",
       " 'episode_271',\n",
       " 'episode_272',\n",
       " 'episode_273',\n",
       " 'episode_274',\n",
       " 'episode_275',\n",
       " 'episode_276',\n",
       " 'episode_277',\n",
       " 'episode_278',\n",
       " 'episode_279',\n",
       " 'episode_280',\n",
       " 'episode_281',\n",
       " 'episode_282',\n",
       " 'episode_283',\n",
       " 'episode_284',\n",
       " 'episode_285',\n",
       " 'episode_286',\n",
       " 'episode_287',\n",
       " 'episode_288',\n",
       " 'episode_289',\n",
       " 'episode_290',\n",
       " 'episode_291',\n",
       " 'episode_292',\n",
       " 'episode_293',\n",
       " 'episode_294',\n",
       " 'episode_295',\n",
       " 'episode_296',\n",
       " '.DS_Store']"
      ]
     },
     "execution_count": 40,
     "metadata": {},
     "output_type": "execute_result"
    }
   ],
   "execution_count": 40
  },
  {
   "metadata": {
    "ExecuteTime": {
     "end_time": "2024-07-21T02:51:15.988992Z",
     "start_time": "2024-07-21T02:51:14.907468Z"
    }
   },
   "cell_type": "code",
   "source": [
    "for path in sorted(os.listdir('frames_dataset'), key=lambda x: int(x.split('_')[1]) if x != '.DS_Store' else 99999):\n",
    "    if path == \".DS_Store\":\n",
    "        continue\n",
    "    num_pngs = len([item for item in os.listdir(\"frames_dataset/\" + path) if not item.startswith('.')]) - 2 # actions + output.mp4\n",
    "    # mod = num_pngs % 16\n",
    "    actions = pickle.load(open(f'frames_dataset/{path}/actions.pkl', 'rb'))[:num_pngs - 1]\n",
    "    pickle.dump(actions, open(f'frames_dataset/{path}/actions.pkl', 'wb'))\n",
    "    # for i in range(mod):\n",
    "    #     os.remove(f'frames_dataset/{path}/{num_pngs - mod + i + 1}.png')"
   ],
   "outputs": [],
   "execution_count": 55
  },
  {
   "metadata": {
    "ExecuteTime": {
     "end_time": "2024-07-21T02:51:34.162038Z",
     "start_time": "2024-07-21T02:51:34.156235Z"
    }
   },
   "cell_type": "code",
   "source": "num_pngs",
   "outputs": [
    {
     "data": {
      "text/plain": [
       "784"
      ]
     },
     "execution_count": 56,
     "metadata": {},
     "output_type": "execute_result"
    }
   ],
   "execution_count": 56
  },
  {
   "metadata": {
    "ExecuteTime": {
     "end_time": "2024-07-21T02:52:26.033447Z",
     "start_time": "2024-07-21T02:52:26.027766Z"
    }
   },
   "cell_type": "code",
   "source": "len(pickle.load(open(f'frames_dataset/episode_296/actions.pkl', 'rb')))",
   "outputs": [
    {
     "data": {
      "text/plain": [
       "783"
      ]
     },
     "execution_count": 58,
     "metadata": {},
     "output_type": "execute_result"
    }
   ],
   "execution_count": 58
  },
  {
   "metadata": {
    "ExecuteTime": {
     "end_time": "2024-07-21T23:41:58.555424Z",
     "start_time": "2024-07-21T23:41:02.894374Z"
    }
   },
   "cell_type": "code",
   "source": [
    "from condition_dataset import ConditionalVideoDataset\n",
    "dataset = ConditionalVideoDataset(\"frames_dataset\", num_actions=16)\n"
   ],
   "outputs": [
    {
     "name": "stderr",
     "output_type": "stream",
     "text": [
      "100%|██████████| 19/19 [00:49<00:00,  2.59s/it]\n"
     ]
    }
   ],
   "execution_count": 1
  },
  {
   "metadata": {
    "ExecuteTime": {
     "end_time": "2024-07-21T23:41:58.718359Z",
     "start_time": "2024-07-21T23:41:58.558254Z"
    }
   },
   "cell_type": "code",
   "source": "video, actions = dataset[31]\n",
   "outputs": [
    {
     "name": "stderr",
     "output_type": "stream",
     "text": [
      "/usr/local/Caskroom/miniconda/base/envs/multimodal/lib/python3.11/site-packages/torchvision/io/video.py:161: UserWarning: The pts_unit 'pts' gives wrong results. Please use pts_unit 'sec'.\n",
      "  warnings.warn(\"The pts_unit 'pts' gives wrong results. Please use pts_unit 'sec'.\")\n"
     ]
    }
   ],
   "execution_count": 2
  },
  {
   "metadata": {
    "ExecuteTime": {
     "end_time": "2024-07-21T23:43:56.153351Z",
     "start_time": "2024-07-21T23:43:55.863094Z"
    }
   },
   "cell_type": "code",
   "source": [
    "invTrans = T.Compose(\n",
    "    [\n",
    "        T.Normalize(mean=[0.0, 0.0, 0.0], std=[1 / 0.5, 1 / 0.5, 1 / 0.5]),\n",
    "        T.Normalize(mean=[-0.5, -0.5, -0.5], std=[1.0, 1.0, 1.0]),\n",
    "        T.ToPILImage(),\n",
    "    ]\n",
    ")\n",
    "\n",
    "invTrans(video[6]).show()\n",
    "invTrans(video[7]).show()\n"
   ],
   "outputs": [],
   "execution_count": 7
  }
 ],
 "metadata": {
  "kernelspec": {
   "display_name": "multimodal",
   "language": "python",
   "name": "python3"
  },
  "language_info": {
   "codemirror_mode": {
    "name": "ipython",
    "version": 3
   },
   "file_extension": ".py",
   "mimetype": "text/x-python",
   "name": "python",
   "nbconvert_exporter": "python",
   "pygments_lexer": "ipython3",
   "version": "3.11.9"
  }
 },
 "nbformat": 4,
 "nbformat_minor": 2
}
